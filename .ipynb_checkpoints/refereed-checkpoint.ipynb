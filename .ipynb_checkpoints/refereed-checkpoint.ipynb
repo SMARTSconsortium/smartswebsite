{
 "metadata": {
  "name": ""
 },
 "nbformat": 3,
 "nbformat_minor": 0,
 "worksheets": [
  {
   "cells": [
    {
     "cell_type": "code",
     "collapsed": false,
     "input": [
      "import os, sys, json, requests\n",
      "import pandas as pd \n",
      "import numpy as np\n",
      "\n",
      "# base API search url\n",
      "BASE_URL = 'http://adslabs.org/adsabs/api/search/'\n",
      "\n",
      "# developer API access key\n",
      "DEV_KEY = 'eZgX5PXnBjqcwbtc'\n",
      "\n",
      "#reflists is a pything list holding the bibcodes of the publications we want to list out\n",
      "#returns a pandas dataframe that has information on publications we are insterested in\n",
      "def getBibInfo(reflist):\n",
      "\n",
      "\tdf=pd.DataFrame(columns=['bibcode','title','pub','volume','page','author', 'year'])\n",
      "\n",
      "\tfor i in reflist:\n",
      "\t\tparams={}\n",
      "\t\t#querry we are sending\n",
      "\t\tparams['q'] = \"bibcode:%s\" % i\n",
      "\n",
      "\t\t#stuff we want back\n",
      "\t\tparams['fl'] = 'title,pub,volume,page,pubdate,author'\n",
      "\n",
      "\t\t#we just want the first response\n",
      "\t\tparams['rows']=1\n",
      "\n",
      "\t\t#the developer acess key\n",
      "\t\tparams['dev_key']=DEV_KEY\n",
      "\n",
      "\t\t#store the response to the requet to ads\n",
      "\t\tr=requests.get(BASE_URL, params=params)\n",
      "\n",
      "\t\t#response is in json as default, parse it\n",
      "\t\tdata=json.loads(r.text)['results']['docs'][0]\n",
      "\n",
      "\t\t#we will store the data in the respons we are insterested in in \n",
      "\t\t#the dictionary 'citation'\n",
      "\t\tcitation={}\n",
      "\n",
      "\t\tcitation['title']=data['title'][0].encode('utf-8')\n",
      "\t\t\n",
      "\t\tif len(data['author']) > 1:\n",
      "\t\t\tcitation['author']=data['author'][0].encode('utf-8')+' et al.'\n",
      "\t\telse:\n",
      "\t\t\tcitation['author']=writers.encode('utf-8')\n",
      "\n",
      "\t\tcitation['bibcode']=i\n",
      "\t\tcitation['pub']=data['pub'].encode('utf-8')\n",
      "\t\tcitation['volume']=data['volume'].encode('utf-8')\n",
      "\t\tcitation['page']=data['page'][0].encode('utf-8')\n",
      "\t\tcitation['pubdate']=data['pubdate'].encode('utf-8')\n",
      "\t\tcitation['year']=data['pubdate'].split('-')[0].encode('utf-8')\n",
      "\t\t#print(citation['author']+' '+citation['year']+', '+citation['pub']+', '+citation['volume']+', '+citation['page']+\n",
      "\t\t#\t'. '+citation['title']+'\\n')\n",
      "\t\t\n",
      "\t\t#add the citation information as a row in the pd dataframe\n",
      "\t\tdf=df.append({\n",
      "\t\t\t'bibcode':citation['bibcode'],\n",
      "\t\t\t'pub':citation['pub'],\n",
      "\t\t\t'title':citation['title'],\n",
      "\t\t\t'volume':citation['volume'],\n",
      "\t\t\t'page':citation['page'],\n",
      "\t\t\t'year':citation['year'],\n",
      "\t\t\t'author':citation['author']\n",
      "\t\t\t}, ignore_index=True)\n",
      "\n",
      "\treturn df"
     ],
     "language": "python",
     "metadata": {},
     "outputs": [],
     "prompt_number": 41
    },
    {
     "cell_type": "code",
     "collapsed": false,
     "input": [
      "references=['2012ApJ...754...73B','2014AJ....147...85R','2012AJ....144..186K',\n",
      "            '2012ApJ...755..102Y','2011ApJ...736L..30D','2011ApJ...728..145M',\n",
      "            '2011MPBu...38....2F','2014ApJS..210....6L','2012ApJ...745...58G',\n",
      "            '2013AJ....146...83P','2011MNRAS.417.1881R','2011ApJ...742..113S']"
     ],
     "language": "python",
     "metadata": {},
     "outputs": [],
     "prompt_number": 42
    },
    {
     "cell_type": "code",
     "collapsed": false,
     "input": [
      "df=getBibInfo(references)"
     ],
     "language": "python",
     "metadata": {},
     "outputs": [],
     "prompt_number": 43
    },
    {
     "cell_type": "code",
     "collapsed": false,
     "input": [
      "years=np.unique(df['year'].values, return_inverse=False)[::-1]"
     ],
     "language": "python",
     "metadata": {},
     "outputs": [],
     "prompt_number": 29
    },
    {
     "cell_type": "code",
     "collapsed": false,
     "input": [
      "df[df['year']=='2014'].sort(columns='author')"
     ],
     "language": "python",
     "metadata": {},
     "outputs": [
      {
       "html": [
        "<div style=\"max-height:1000px;max-width:1500px;overflow:auto;\">\n",
        "<table border=\"1\" class=\"dataframe\">\n",
        "  <thead>\n",
        "    <tr style=\"text-align: right;\">\n",
        "      <th></th>\n",
        "      <th>bibcode</th>\n",
        "      <th>title</th>\n",
        "      <th>pub</th>\n",
        "      <th>volume</th>\n",
        "      <th>page</th>\n",
        "      <th>author</th>\n",
        "      <th>year</th>\n",
        "    </tr>\n",
        "  </thead>\n",
        "  <tbody>\n",
        "    <tr>\n",
        "      <th>7</th>\n",
        "      <td> 2014ApJS..210....6L</td>\n",
        "      <td> Toward a Better Understanding of the Distance ...</td>\n",
        "      <td> The Astrophysical Journal Supplement Series</td>\n",
        "      <td> 210</td>\n",
        "      <td>  6</td>\n",
        "      <td>     Lee, Jae-Woo et al.</td>\n",
        "      <td> 2014</td>\n",
        "    </tr>\n",
        "    <tr>\n",
        "      <th>1</th>\n",
        "      <td> 2014AJ....147...85R</td>\n",
        "      <td> The Solar Neighborhood. XXXIII. Parallax Resul...</td>\n",
        "      <td>                    The Astronomical Journal</td>\n",
        "      <td> 147</td>\n",
        "      <td> 85</td>\n",
        "      <td> Riedel, Adric R. et al.</td>\n",
        "      <td> 2014</td>\n",
        "    </tr>\n",
        "  </tbody>\n",
        "</table>\n",
        "<p>2 rows \u00d7 7 columns</p>\n",
        "</div>"
       ],
       "metadata": {},
       "output_type": "pyout",
       "prompt_number": 46,
       "text": [
        "               bibcode                                              title  \\\n",
        "7  2014ApJS..210....6L  Toward a Better Understanding of the Distance ...   \n",
        "1  2014AJ....147...85R  The Solar Neighborhood. XXXIII. Parallax Resul...   \n",
        "\n",
        "                                           pub volume page  \\\n",
        "7  The Astrophysical Journal Supplement Series    210    6   \n",
        "1                     The Astronomical Journal    147   85   \n",
        "\n",
        "                    author  year  \n",
        "7      Lee, Jae-Woo et al.  2014  \n",
        "1  Riedel, Adric R. et al.  2014  \n",
        "\n",
        "[2 rows x 7 columns]"
       ]
      }
     ],
     "prompt_number": 46
    },
    {
     "cell_type": "code",
     "collapsed": false,
     "input": [
      "def sortYearAuthor(df):\n",
      "    #figure out which years there are publications for, order them from greatest to least\n",
      "    years=np.unique(df['year'].values, return_inverse=False)[::-1]\n",
      "    \n",
      "    #subdf is a list that will hold a dataframe for each year\n",
      "    #each dataframe will be sorted by author\n",
      "    subdf=[]\n",
      "    for i in years:\n",
      "        subdf.append(df[df['year']==i].sort(columns='author'))\n",
      "    \n",
      "    return subdf"
     ],
     "language": "python",
     "metadata": {},
     "outputs": [],
     "prompt_number": 49
    },
    {
     "cell_type": "code",
     "collapsed": false,
     "input": [
      "subdf=sortYearAuthor(df)"
     ],
     "language": "python",
     "metadata": {},
     "outputs": [],
     "prompt_number": 50
    },
    {
     "cell_type": "code",
     "collapsed": false,
     "input": [
      "len(subdf)"
     ],
     "language": "python",
     "metadata": {},
     "outputs": [
      {
       "metadata": {},
       "output_type": "pyout",
       "prompt_number": 51,
       "text": [
        "4"
       ]
      }
     ],
     "prompt_number": 51
    },
    {
     "cell_type": "code",
     "collapsed": false,
     "input": [
      "subdf[3]"
     ],
     "language": "python",
     "metadata": {},
     "outputs": [
      {
       "html": [
        "<div style=\"max-height:1000px;max-width:1500px;overflow:auto;\">\n",
        "<table border=\"1\" class=\"dataframe\">\n",
        "  <thead>\n",
        "    <tr style=\"text-align: right;\">\n",
        "      <th></th>\n",
        "      <th>bibcode</th>\n",
        "      <th>title</th>\n",
        "      <th>pub</th>\n",
        "      <th>volume</th>\n",
        "      <th>page</th>\n",
        "      <th>author</th>\n",
        "      <th>year</th>\n",
        "    </tr>\n",
        "  </thead>\n",
        "  <tbody>\n",
        "    <tr>\n",
        "      <th>4 </th>\n",
        "      <td> 2011ApJ...736L..30D</td>\n",
        "      <td> The Remarkable \u03b3-Ray Activity in the Gravitati...</td>\n",
        "      <td>                         The Astrophysical Journal</td>\n",
        "      <td> 736</td>\n",
        "      <td>  L30</td>\n",
        "      <td>       Donnarumma, I. et al.</td>\n",
        "      <td> 2011</td>\n",
        "    </tr>\n",
        "    <tr>\n",
        "      <th>6 </th>\n",
        "      <td> 2011MPBu...38....2F</td>\n",
        "      <td> The Lightcurve of Jovian Trojan Asteroid 884 P...</td>\n",
        "      <td>                             Minor Planet Bulletin</td>\n",
        "      <td>  38</td>\n",
        "      <td>    2</td>\n",
        "      <td>     French, Linda M. et al.</td>\n",
        "      <td> 2011</td>\n",
        "    </tr>\n",
        "    <tr>\n",
        "      <th>5 </th>\n",
        "      <td> 2011ApJ...728..145M</td>\n",
        "      <td> A Study of Gravitational Lens Chromaticity Usi...</td>\n",
        "      <td>                         The Astrophysical Journal</td>\n",
        "      <td> 728</td>\n",
        "      <td>  145</td>\n",
        "      <td>      Mosquera, A. M. et al.</td>\n",
        "      <td> 2011</td>\n",
        "    </tr>\n",
        "    <tr>\n",
        "      <th>10</th>\n",
        "      <td> 2011MNRAS.417.1881R</td>\n",
        "      <td> Spectral energy distribution variation in BL L...</td>\n",
        "      <td> Monthly Notices of the Royal Astronomical Society</td>\n",
        "      <td> 417</td>\n",
        "      <td> 1881</td>\n",
        "      <td>          Rani, Bindu et al.</td>\n",
        "      <td> 2011</td>\n",
        "    </tr>\n",
        "    <tr>\n",
        "      <th>11</th>\n",
        "      <td> 2011ApJ...742..113S</td>\n",
        "      <td> Eclipses during the 2010 Eruption of the Recur...</td>\n",
        "      <td>                         The Astrophysical Journal</td>\n",
        "      <td> 742</td>\n",
        "      <td>  113</td>\n",
        "      <td> Schaefer, Bradley E. et al.</td>\n",
        "      <td> 2011</td>\n",
        "    </tr>\n",
        "  </tbody>\n",
        "</table>\n",
        "<p>5 rows \u00d7 7 columns</p>\n",
        "</div>"
       ],
       "metadata": {},
       "output_type": "pyout",
       "prompt_number": 56,
       "text": [
        "                bibcode                                              title  \\\n",
        "4   2011ApJ...736L..30D  The Remarkable \u03b3-Ray Activity in the Gravitati...   \n",
        "6   2011MPBu...38....2F  The Lightcurve of Jovian Trojan Asteroid 884 P...   \n",
        "5   2011ApJ...728..145M  A Study of Gravitational Lens Chromaticity Usi...   \n",
        "10  2011MNRAS.417.1881R  Spectral energy distribution variation in BL L...   \n",
        "11  2011ApJ...742..113S  Eclipses during the 2010 Eruption of the Recur...   \n",
        "\n",
        "                                                  pub volume  page  \\\n",
        "4                           The Astrophysical Journal    736   L30   \n",
        "6                               Minor Planet Bulletin     38     2   \n",
        "5                           The Astrophysical Journal    728   145   \n",
        "10  Monthly Notices of the Royal Astronomical Society    417  1881   \n",
        "11                          The Astrophysical Journal    742   113   \n",
        "\n",
        "                         author  year  \n",
        "4         Donnarumma, I. et al.  2011  \n",
        "6       French, Linda M. et al.  2011  \n",
        "5        Mosquera, A. M. et al.  2011  \n",
        "10           Rani, Bindu et al.  2011  \n",
        "11  Schaefer, Bradley E. et al.  2011  \n",
        "\n",
        "[5 rows x 7 columns]"
       ]
      }
     ],
     "prompt_number": 56
    },
    {
     "cell_type": "code",
     "collapsed": false,
     "input": [
      "htmlstufff='''\t\t\t\t\t\t\t\t\t<div class=\"4u\">\n",
      "\t\t\t\t\t\t\t\t\t\t<section>\n",
      "\t\t\t\t\t\t\t\t\t\t\t<a href=\"1.3m.html\" class=\"image featured\"><img src=\"images/ctio-1.3m.jpg\" alt=\"\" /></a>\n",
      "\t\t\t\t\t\t\t\t\t\t\t\t<h3>1.3-m + ANDICAM</h3>\n",
      "\t\t\t\t\t\t\t\t\t\t\t\t<p>Simultanious optical (6' x 6') and IR (2.5' x 3.5') imager. Observing preformed in queue and service mode.</p>\n",
      "\t\t\t\t\t\t\t\t\t\t\t</header>\n",
      "\t\t\t\t\t\t\t\t\t\t</section>\n",
      "\t\t\t\t\t\t\t\t\t</div>'''"
     ],
     "language": "python",
     "metadata": {},
     "outputs": [],
     "prompt_number": 58
    },
    {
     "cell_type": "code",
     "collapsed": false,
     "input": [
      "print htmlstufff"
     ],
     "language": "python",
     "metadata": {},
     "outputs": [
      {
       "output_type": "stream",
       "stream": "stdout",
       "text": [
        "\t\t\t\t\t\t\t\t\t<div class=\"4u\">\n",
        "\t\t\t\t\t\t\t\t\t\t<section>\n",
        "\t\t\t\t\t\t\t\t\t\t\t<a href=\"1.3m.html\" class=\"image featured\"><img src=\"images/ctio-1.3m.jpg\" alt=\"\" /></a>\n",
        "\t\t\t\t\t\t\t\t\t\t\t\t<h3>1.3-m + ANDICAM</h3>\n",
        "\t\t\t\t\t\t\t\t\t\t\t\t<p>Simultanious optical (6' x 6') and IR (2.5' x 3.5') imager. Observing preformed in queue and service mode.</p>\n",
        "\t\t\t\t\t\t\t\t\t\t\t</header>\n",
        "\t\t\t\t\t\t\t\t\t\t</section>\n",
        "\t\t\t\t\t\t\t\t\t</div>\n"
       ]
      }
     ],
     "prompt_number": 60
    },
    {
     "cell_type": "code",
     "collapsed": false,
     "input": [
      "def printHTML(subdf):\n",
      "    \n",
      "    #index over different dataframes\n",
      "    for year in subdf:\n",
      "        for row in year:\n",
      "            print row.values\n",
      "    return"
     ],
     "language": "python",
     "metadata": {},
     "outputs": [],
     "prompt_number": 66
    },
    {
     "cell_type": "code",
     "collapsed": false,
     "input": [
      "print subdf[0][:1]['author'].values.squeeze()"
     ],
     "language": "python",
     "metadata": {},
     "outputs": [
      {
       "output_type": "stream",
       "stream": "stdout",
       "text": [
        "Lee, Jae-Woo et al.\n"
       ]
      }
     ],
     "prompt_number": 88
    },
    {
     "cell_type": "code",
     "collapsed": false,
     "input": [],
     "language": "python",
     "metadata": {},
     "outputs": []
    }
   ],
   "metadata": {}
  }
 ]
}